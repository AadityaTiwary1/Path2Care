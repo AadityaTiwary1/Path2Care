{
 "cells": [
  {
   "cell_type": "code",
   "execution_count": null,
   "id": "0b0ecdf6",
   "metadata": {},
   "outputs": [],
   "source": [
    "import os\n",
    "import json\n",
    "\n",
    "kaggle_info = {\"username\":\"aadityatiwary2004\",\"key\":\"41bd25eaf1db3bc535973f652664\"}\n",
    "\n",
    "# Create the .kaggle directory if it doesn't exist\n",
    "!mkdir -p ~/.kaggle\n",
    "\n",
    "# Write the kaggle.json file\n",
    "with open(os.path.expanduser('~/.kaggle/kaggle.json'), 'w') as f:\n",
    "    json.dump(kaggle_info, f)\n",
    "\n",
    "# Set permissions for the file\n",
    "!chmod 600 ~/.kaggle/kaggle.json"
   ]
  },
  {
   "cell_type": "code",
   "execution_count": null,
   "id": "fdc67593",
   "metadata": {},
   "outputs": [],
   "source": [
    "!kaggle datasets download -d ismailpromus/skin-diseases-image-dataset"
   ]
  },
  {
   "cell_type": "code",
   "execution_count": null,
   "id": "0dd8a675",
   "metadata": {},
   "outputs": [],
   "source": [
    "!unzip skin-diseases-image-dataset.zip"
   ]
  },
  {
   "cell_type": "code",
   "execution_count": null,
   "id": "d1830c7d",
   "metadata": {},
   "outputs": [],
   "source": [
    "import tensorflow as tf\n",
    "from tensorflow.keras.preprocessing.image import ImageDataGenerator\n",
    "from tensorflow.keras.applications import MobileNetV2\n",
    "from tensorflow.keras.models import Model\n",
    "from tensorflow.keras.layers import Dense, GlobalAveragePooling2D, Dropout\n",
    "from tensorflow.keras.optimizers import Adam"
   ]
  },
  {
   "cell_type": "code",
   "execution_count": null,
   "id": "39fb2336",
   "metadata": {},
   "outputs": [],
   "source": [
    "# === Dataset path ===\n",
    "data_dir = r\"Skin_Diseases\" "
   ]
  },
  {
   "cell_type": "code",
   "execution_count": null,
   "id": "926cce00",
   "metadata": {},
   "outputs": [],
   "source": [
    "# === Data generators with augmentation and split ===\n",
    "train_datagen = ImageDataGenerator(\n",
    "    rescale=1./255,\n",
    "    rotation_range=20,\n",
    "    zoom_range=0.2,\n",
    "    width_shift_range=0.1,\n",
    "    height_shift_range=0.1,\n",
    "    horizontal_flip=True,\n",
    "    validation_split=0.2  # 80% train, 20% val\n",
    ")\n",
    "\n",
    "val_datagen = ImageDataGenerator(\n",
    "    rescale=1./255,\n",
    "    validation_split=0.2\n",
    ")\n",
    "\n",
    "train_generator = train_datagen.flow_from_directory(\n",
    "    data_dir,\n",
    "    target_size=(150, 150),\n",
    "    batch_size=32,\n",
    "    class_mode='categorical',\n",
    "    subset='training',\n",
    "    shuffle=True\n",
    ")\n",
    "\n",
    "val_generator = val_datagen.flow_from_directory(\n",
    "    data_dir,\n",
    "    target_size=(150, 150),\n",
    "    batch_size=32,\n",
    "    class_mode='categorical',\n",
    "    subset='validation',\n",
    "    shuffle=False\n",
    ")"
   ]
  },
  {
   "cell_type": "code",
   "execution_count": null,
   "id": "acd45c42",
   "metadata": {},
   "outputs": [],
   "source": [
    "# === Load MobileNetV2 as base model ===\n",
    "base_model = MobileNetV2(weights='imagenet', include_top=False, input_shape=(150, 150, 3))\n",
    "base_model.trainable = False  # Stage 1: freeze base layers"
   ]
  },
  {
   "cell_type": "code",
   "execution_count": null,
   "id": "6f109172",
   "metadata": {},
   "outputs": [],
   "source": [
    "# === Add custom layers ===\n",
    "x = base_model.output\n",
    "x = GlobalAveragePooling2D()(x)\n",
    "x = Dense(256, activation='relu')(x) # Increased units\n",
    "x = Dropout(0.4)(x) # Increased dropout\n",
    "x = Dense(128, activation='relu')(x) # Added dense layer\n",
    "x = Dropout(0.3)(x) # Added dropout\n",
    "x = Dense(64, activation='relu')(x) # Added another dense layer\n",
    "predictions = Dense(train_generator.num_classes, activation='softmax')(x)\n",
    "\n",
    "model = Model(inputs=base_model.input, outputs=predictions)"
   ]
  },
  {
   "cell_type": "code",
   "execution_count": null,
   "id": "0a5c5681",
   "metadata": {},
   "outputs": [],
   "source": [
    "# === Compile and train (Stage 1: feature extraction) ===\n",
    "model.compile(optimizer=Adam(learning_rate=0.0001),\n",
    "              loss='categorical_crossentropy',\n",
    "              metrics=['accuracy'])\n",
    "\n",
    "history1 = model.fit(\n",
    "    train_generator,\n",
    "    steps_per_epoch=len(train_generator),\n",
    "    validation_data=val_generator,\n",
    "    validation_steps=len(val_generator),\n",
    "    epochs=10\n",
    ")"
   ]
  },
  {
   "cell_type": "code",
   "execution_count": null,
   "id": "8589474d",
   "metadata": {},
   "outputs": [],
   "source": [
    "# === Stage 2: Fine-tuning last 50 layers of MobileNetV2 ===\n",
    "base_model.trainable = True\n",
    "for layer in base_model.layers[:-50]:\n",
    "    layer.trainable = False\n",
    "\n",
    "model.compile(optimizer=Adam(learning_rate=0.00001),\n",
    "              loss='categorical_crossentropy',\n",
    "              metrics=['accuracy'])\n",
    "\n",
    "history2 = model.fit(\n",
    "    train_generator,\n",
    "    steps_per_epoch=len(train_generator),\n",
    "    validation_data=val_generator,\n",
    "    validation_steps=len(val_generator),\n",
    "    epochs=25\n",
    ")\n"
   ]
  },
  {
   "cell_type": "code",
   "execution_count": null,
   "id": "5d436cb9",
   "metadata": {},
   "outputs": [],
   "source": [
    "# === Evaluate the model on the validation set ===\n",
    "loss, accuracy = model.evaluate(val_generator, steps=len(val_generator))\n",
    "print(f\"Validation Loss: {loss:.4f}\")\n",
    "print(f\"Validation Accuracy: {accuracy:.4f}\")"
   ]
  },
  {
   "cell_type": "code",
   "execution_count": null,
   "id": "6291ba62",
   "metadata": {},
   "outputs": [],
   "source": [
    "model.save(\"skin_disease_model.h5\")"
   ]
  }
 ],
 "metadata": {
  "language_info": {
   "name": "python"
  }
 },
 "nbformat": 4,
 "nbformat_minor": 5
}
